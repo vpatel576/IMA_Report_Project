{
 "cells": [
  {
   "cell_type": "code",
   "execution_count": 30,
   "metadata": {},
   "outputs": [],
   "source": [
    "import pandas as pd\n",
    "import pandas_datareader as web\n",
    "from datetime import datetime\n",
    "from datetime import timedelta\n",
    "\n",
    "import matplotlib.pyplot as plt\n",
    "import matplotlib\n",
    "import numpy as np\n",
    "from matplotlib import colors\n",
    "from matplotlib.ticker import PercentFormatter"
   ]
  },
  {
   "cell_type": "code",
   "execution_count": 3,
   "metadata": {},
   "outputs": [
    {
     "name": "stdout",
     "output_type": "stream",
     "text": [
      "Requirement already satisfied: matplotlib in c:\\users\\kevin\\miniconda3\\lib\\site-packages (3.4.1)Note: you may need to restart the kernel to use updated packages.\n",
      "Requirement already satisfied: kiwisolver>=1.0.1 in c:\\users\\kevin\\miniconda3\\lib\\site-packages (from matplotlib) (1.3.1)\n",
      "Requirement already satisfied: python-dateutil>=2.7 in c:\\users\\kevin\\miniconda3\\lib\\site-packages (from matplotlib) (2.8.1)\n",
      "Requirement already satisfied: numpy>=1.16 in c:\\users\\kevin\\miniconda3\\lib\\site-packages (from matplotlib) (1.19.2)\n",
      "Requirement already satisfied: pyparsing>=2.2.1 in c:\\users\\kevin\\miniconda3\\lib\\site-packages (from matplotlib) (2.4.7)\n",
      "Requirement already satisfied: pillow>=6.2.0 in c:\\users\\kevin\\miniconda3\\lib\\site-packages (from matplotlib) (8.2.0)\n",
      "Requirement already satisfied: cycler>=0.10 in c:\\users\\kevin\\miniconda3\\lib\\site-packages (from matplotlib) (0.10.0)\n",
      "Requirement already satisfied: six>=1.5 in c:\\users\\kevin\\miniconda3\\lib\\site-packages (from python-dateutil>=2.7->matplotlib) (1.12.0)\n",
      "\n"
     ]
    }
   ],
   "source": [
    "pip install matplotlib"
   ]
  },
  {
   "cell_type": "code",
   "execution_count": 39,
   "metadata": {},
   "outputs": [],
   "source": [
    "today = datetime.today().date()"
   ]
  },
  {
   "cell_type": "code",
   "execution_count": 40,
   "metadata": {},
   "outputs": [],
   "source": [
    "start = today - timedelta(days = 7)"
   ]
  },
  {
   "cell_type": "code",
   "execution_count": 41,
   "metadata": {},
   "outputs": [],
   "source": [
    "symbol = ['XLC', 'XLU', 'XLV', 'XLP', 'XLY', 'XLF', 'XLK', 'XLRE', 'XLB', 'XLE', 'XLI']"
   ]
  },
  {
   "cell_type": "code",
   "execution_count": 42,
   "metadata": {},
   "outputs": [],
   "source": [
    "industry = {}"
   ]
  },
  {
   "cell_type": "code",
   "execution_count": 43,
   "metadata": {},
   "outputs": [],
   "source": [
    "for i in symbol:\n",
    "    close = web.DataReader(i, 'yahoo', start, today)['Adj Close']\n",
    "    y = (((close[-1] - close[0])/(close[0]))*100)\n",
    "    z = str(round(y,2))\n",
    "    industry[i] = z"
   ]
  },
  {
   "cell_type": "code",
   "execution_count": 44,
   "metadata": {},
   "outputs": [
    {
     "data": {
      "text/plain": [
       "{'XLC': '-0.82',\n",
       " 'XLU': '3.33',\n",
       " 'XLV': '2.9',\n",
       " 'XLP': '1.42',\n",
       " 'XLY': '-1.86',\n",
       " 'XLF': '-0.76',\n",
       " 'XLK': '-1.08',\n",
       " 'XLRE': '3.01',\n",
       " 'XLB': '1.85',\n",
       " 'XLE': '-1.55',\n",
       " 'XLI': '-0.75'}"
      ]
     },
     "execution_count": 44,
     "metadata": {},
     "output_type": "execute_result"
    }
   ],
   "source": [
    "industry"
   ]
  },
  {
   "cell_type": "code",
   "execution_count": 45,
   "metadata": {},
   "outputs": [
    {
     "data": {
      "text/plain": [
       "[0.75, 0.76, 0.82, 1.08, 1.55, 1.86, 1.42, 1.85, 2.9, 3.01, 3.33]"
      ]
     },
     "execution_count": 45,
     "metadata": {},
     "output_type": "execute_result"
    }
   ],
   "source": [
    "\n",
    "x = dict(sorted(industry.items(), key=lambda item: item[1]))\n",
    "v = x.values()\n",
    "val = list(v)\n",
    "abs_val = []\n",
    "for i in val:\n",
    "    abs_val.append(abs(float(i)))\n",
    "abs_val"
   ]
  },
  {
   "cell_type": "code",
   "execution_count": 46,
   "metadata": {},
   "outputs": [
    {
     "data": {
      "image/png": "[encoded data removed]",
      "text/plain": [
       "<Figure size 640x480 with 1 Axes>"
      ]
     },
     "metadata": {},
     "output_type": "display_data"
    }
   ],
   "source": [
    "\n",
    "plt.rcdefaults()\n",
    "fig, ax = plt.subplots()\n",
    "\n",
    "percent = abs_val\n",
    "tickers = x.keys()\n",
    "y_pos = np.arange(len(tickers))\n",
    "\n",
    "clrs = []\n",
    "for i in val:\n",
    "    if float(i) < 0:\n",
    "        clrs.append('red')\n",
    "    else:\n",
    "        clrs.append('green')\n",
    "\n",
    "    \n",
    "ax.barh(y_pos, percent, align='center', color=clrs, edgecolor = 'black')\n",
    "ax.set_yticks(y_pos)\n",
    "ax.set_yticklabels(tickers)\n",
    "ax.set_xlabel('Percent Change (%)')\n",
    "ax.set_ylabel('Tickers')\n",
    "ax.set_title('1 Week Perfromance %')\n",
    "\n",
    "\n",
    "\n",
    "\n",
    "\n",
    "\n",
    "plt.show()"
   ]
  },
  {
   "cell_type": "code",
   "execution_count": null,
   "metadata": {},
   "outputs": [],
   "source": []
  },
  {
   "cell_type": "code",
   "execution_count": null,
   "metadata": {},
   "outputs": [],
   "source": []
  }
 ],
 "metadata": {
  "kernelspec": {
   "display_name": "Python 3",
   "language": "python",
   "name": "python3"
  },
  "language_info": {
   "codemirror_mode": {
    "name": "ipython",
    "version": 3
   },
   "file_extension": ".py",
   "mimetype": "text/x-python",
   "name": "python",
   "nbconvert_exporter": "python",
   "pygments_lexer": "ipython3",
   "version": "3.7.3"
  }
 },
 "nbformat": 4,
 "nbformat_minor": 4
}
