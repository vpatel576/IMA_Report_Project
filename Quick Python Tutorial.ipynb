{
  "nbformat": 4,
  "nbformat_minor": 0,
  "metadata": {
    "colab": {
      "name": "Copy of  Lab 3",
      "provenance": [],
      "collapsed_sections": [
        "c5-h16uIQBjS",
        "VBlDQxHCX-rI",
        "iLeEVnmHbUtE",
        "NCLM24ocba1R"
      ],
      "include_colab_link": true
    },
    "kernelspec": {
      "name": "python3",
      "display_name": "Python 3"
    }
  },
  "cells": [
    {
      "cell_type": "markdown",
      "metadata": {
        "id": "view-in-github",
        "colab_type": "text"
      },
      "source": [
        "<a href=\"https://colab.research.google.com/github/vpatel576/IMA_Report_Project/blob/master/Copy_of_Lab_3.ipynb\" target=\"_parent\"><img src=\"https://colab.research.google.com/assets/colab-badge.svg\" alt=\"Open In Colab\"/></a>"
      ]
    },
    {
      "cell_type": "markdown",
      "metadata": {
        "id": "Vjte86nKP0Ua"
      },
      "source": [
        "# Lab 3\n",
        "\n",
        "__*Before you begin the lab please ensure you have copied both the Colab file and the Google Spreadsheets file to your local Drive!*__\n",
        "\n",
        "<img src = \"https://i.imgur.com/0a8YdRq.png\" width = 280 height = 500>\n",
        "\n",
        "This will open a copy of the file in a new tab. You can now close the original notebook and begin using the copy you made."
      ]
    },
    {
      "cell_type": "markdown",
      "metadata": {
        "id": "n5qePsIlP2SJ"
      },
      "source": [
        "## Types\n"
      ]
    },
    {
      "cell_type": "markdown",
      "metadata": {
        "id": "c5-h16uIQBjS"
      },
      "source": [
        "### Strings ([zyBooks 4.1](https://learn.zybooks.com/zybook/ILLINOISCS105Spring2021/chapter/4/section/1))\n"
      ]
    },
    {
      "cell_type": "markdown",
      "metadata": {
        "id": "SGMFdLp2TuaT"
      },
      "source": [
        "Let's begin with some practice on the manipulation of strings. In this exercise we will be:\n",
        "* Defining string literals\n",
        "* Concatenating strings\n",
        "* Indexing strings\n",
        "\n",
        "To begin this exercise, in the next empty code box define three variables:\n",
        "*   one containing a first name\n",
        "*   one containing a middle name\n",
        "*   one containing a last name\n"
      ]
    },
    {
      "cell_type": "code",
      "metadata": {
        "id": "zgAK4vURTu9s"
      },
      "source": [
        ""
      ],
      "execution_count": null,
      "outputs": []
    },
    {
      "cell_type": "markdown",
      "metadata": {
        "id": "Eou3jg99TvWe"
      },
      "source": [
        "In the next code box, combine the variables you defined into a single variable containing the entire name, with spaces in between each part of the name, then print that variable."
      ]
    },
    {
      "cell_type": "code",
      "metadata": {
        "id": "xlrqXLITTxv8"
      },
      "source": [
        "# Concatenate and print"
      ],
      "execution_count": 1,
      "outputs": []
    },
    {
      "cell_type": "markdown",
      "metadata": {
        "id": "1RsEYIWuTyLQ"
      },
      "source": [
        "In the next code box, use string indexing and concatenation on the entire name variable to store the initials in a new variable. Then print that variable. For instance, if the entire name is \"Michael Dennis Stocks\", the intials must be \"M.D.S\" ."
      ]
    },
    {
      "cell_type": "code",
      "metadata": {
        "id": "Jn19ftoOTy0T",
        "colab": {
          "base_uri": "https://localhost:8080/"
        },
        "outputId": "846eeac8-e856-451c-f6b6-def83a0d68d6"
      },
      "source": [
        "name=\"Michael Dennis Stocks\"\r\n",
        "print(name[0]+\".\"+name[8]+\".\"+name[15])"
      ],
      "execution_count": 2,
      "outputs": [
        {
          "output_type": "stream",
          "text": [
            "M.D.S\n"
          ],
          "name": "stdout"
        }
      ]
    },
    {
      "cell_type": "markdown",
      "metadata": {
        "id": "VBlDQxHCX-rI"
      },
      "source": [
        "### Lists ([zyBooks 4.2](https://learn.zybooks.com/zybook/ILLINOISCS105Spring2021/chapter/4/section/2))\n"
      ]
    },
    {
      "cell_type": "markdown",
      "metadata": {
        "id": "Wwp_-28ixSUV"
      },
      "source": [
        "Lists are a type of container that hold a sequence of values using square brackets `[]`. Each list item is called an **element** and is separated by a comma. Since elements in a list are ordered, we can access them using indexing, just like with strings!\n",
        "\n",
        "> `example_list1 = [\"Chicago\", \"Champaign\", \"Urbana\"]`\n",
        "\n",
        "You can also use variables instead of literals to create a list. \n",
        "> ```\n",
        "x = \"Chicago\"\n",
        "y = \"Champaign\"\n",
        "z = \"Urbana\"\n",
        "example_list2 = [x, y, z]\n",
        "```\n",
        "\n",
        "In this example, `example_list1` and `example_list2` contain identical contents! \n",
        "\n",
        "To access a list element, use square brackets and the index of the element. To print \"Champaign\", we would write:\n",
        "\n",
        "> `print(example_list1[1])`\n",
        "\n",
        "Using this information, do the exercises below with your group members.\n"
      ]
    },
    {
      "cell_type": "code",
      "metadata": {
        "id": "4sLRfvzCH6KF",
        "colab": {
          "base_uri": "https://localhost:8080/"
        },
        "outputId": "cf8b6eb7-71ef-4405-b3f8-8653180e1a31"
      },
      "source": [
        "# Create a list with the names of your group members as string literals.\n",
        "group_members = [\"Nora\", \"Chris\", \"Dylan\", \"Jack\"]\n",
        "\n",
        "print(\"My group members are: \")\n",
        "print(group_members)\n",
        "\n",
        "# Now try creating a list with variables instead of literals. \n",
        "group_member1 = 'Nora'\n",
        "group_member2 = 'Chris'\n",
        "group_member3 = 'Dylan'\n",
        "group_member4 = 'Jack'\n",
        "group_members = [group_member1, group_member2, group_member3, group_member4] # YOU FILL THIS IN\n",
        "\n",
        "# Use indexing to print your own name from group_members.\n",
        "print(group_members[3]) # YOU FILL THIS IN "
      ],
      "execution_count": 9,
      "outputs": [
        {
          "output_type": "stream",
          "text": [
            "My group members are: \n",
            "['Nora', 'Chris', 'Dylan', 'Jack']\n",
            "Jack\n"
          ],
          "name": "stdout"
        }
      ]
    },
    {
      "cell_type": "markdown",
      "metadata": {
        "id": "nIuQZy6RJIF0"
      },
      "source": [
        "\n",
        "Let's look at how lists can be updated. Using the list in the next code box, we can update the values with the following methods.\n",
        "\n",
        "\n",
        "\n",
        "\n",
        "\n",
        "\n"
      ]
    },
    {
      "cell_type": "code",
      "metadata": {
        "id": "0JgPLy5_yu9e"
      },
      "source": [
        "#use this list!\r\n",
        "elements_list = [\"earth\", \"air\", \"fire\", \"water\"]"
      ],
      "execution_count": 4,
      "outputs": []
    },
    {
      "cell_type": "markdown",
      "metadata": {
        "id": "UNjjtVngytdK"
      },
      "source": [
        "\n",
        "**Replacing:** Replace a value at index `i` by overwriting the variable assignment. In the next code box, replace \"fire\" with \"lightning\" and output the resulting list. \n"
      ]
    },
    {
      "cell_type": "code",
      "metadata": {
        "id": "ReG63X2_xu1Y"
      },
      "source": [
        "# Replace fire with lighting here\n",
        "\n"
      ],
      "execution_count": 5,
      "outputs": []
    },
    {
      "cell_type": "markdown",
      "metadata": {
        "id": "6kwM0HFuxvUb"
      },
      "source": [
        "\n",
        "\n",
        "**Appending:** Append a new value to the end of the list using the `append()` function. In the next code box, add \"metal\" to our list of elements. Pay attention to the syntax for using this function!\n",
        "\n"
      ]
    },
    {
      "cell_type": "code",
      "metadata": {
        "id": "XV1jlIXZxwfN"
      },
      "source": [
        "# Append the new value \"metal\" to the list here\n"
      ],
      "execution_count": 6,
      "outputs": []
    },
    {
      "cell_type": "markdown",
      "metadata": {
        "id": "0t3o9mU6xwA-"
      },
      "source": [
        "**Popping:** The `pop()` method removes an element at index `i` and returns it so it can be stored in a variable. In the next code box, use the pop() method to remove an element of your choice, store it in the variable `element` and output it to the screen.\n",
        "\n"
      ]
    },
    {
      "cell_type": "code",
      "metadata": {
        "id": "nA5tYSdJxxjp",
        "colab": {
          "base_uri": "https://localhost:8080/",
          "height": 129
        },
        "outputId": "f9579700-0c7e-406f-be63-549dec7b7fc6"
      },
      "source": [
        "# Pop and store below\n",
        "\n",
        "element = #YOUR CODE HERE\n",
        "print(\"The element you have choosen is \" + element)"
      ],
      "execution_count": 7,
      "outputs": [
        {
          "output_type": "error",
          "ename": "SyntaxError",
          "evalue": "ignored",
          "traceback": [
            "\u001b[0;36m  File \u001b[0;32m\"<ipython-input-7-776d537c90d7>\"\u001b[0;36m, line \u001b[0;32m3\u001b[0m\n\u001b[0;31m    element = #YOUR CODE HERE\u001b[0m\n\u001b[0m                             ^\u001b[0m\n\u001b[0;31mSyntaxError\u001b[0m\u001b[0;31m:\u001b[0m invalid syntax\n"
          ]
        }
      ]
    },
    {
      "cell_type": "markdown",
      "metadata": {
        "id": "68XBzoQrxyCS"
      },
      "source": [
        "**Removing:** The `remove()` method removes the first element with a specific value. It differs from the `pop()` function in that it does not return the value it is removing. It simply removes it. In the next code box, use this function to remove an element of your choice and output the resulting list."
      ]
    },
    {
      "cell_type": "code",
      "metadata": {
        "id": "kgIa2nb_xyf8"
      },
      "source": [
        "# Remove an element and output the list here"
      ],
      "execution_count": null,
      "outputs": []
    },
    {
      "cell_type": "markdown",
      "metadata": {
        "id": "iLeEVnmHbUtE"
      },
      "source": [
        "### Sets ([zyBooks 4.3](https://learn.zybooks.com/zybook/ILLINOISCS105Spring2021/chapter/4/section/3))"
      ]
    },
    {
      "cell_type": "markdown",
      "metadata": {
        "id": "RHN_36D7bXm6"
      },
      "source": [
        "A **set** is, as zyBooks defines it, *an unordered collection of unique elements*. The fact that they are unordered means that their elements cannot be accessed via indexing like with lists or strings. There are two ways of defining a set:\n",
        "\n",
        "```python\n",
        "# A set function\n",
        "set_a = set([\"cat\", \"dog\", \"lizard\", \"fish\"])\n",
        "\n",
        "# A set literal\n",
        "set_b = {\"cat\", \"dog\", \"lizard\", \"fish\"}\n",
        "\n",
        "```\n",
        "Sets and lists are extremely related. The key differences between them are:\n",
        "\n",
        "* Lists are ordered, sets are not.\n",
        "* Lists can contain duplicates, sets do not.\n",
        "\n",
        "Assuming we have a list of elements and we wanted to obtain the set of unique elements present in a list, a set function would be the perfect tool to achieve this task. In the next code box, use the set function to get the unique elements present in the list of colors, store that set in a variable, and output the variable."
      ]
    },
    {
      "cell_type": "code",
      "metadata": {
        "id": "gI_vMhTibacC"
      },
      "source": [
        "# A list of names\n",
        "colors = [\"red\",\"blue\",\"red\",\"green\",\"red\",\"yellow\",\"red\",\"blue\",\"blue\",\"red\",\"yellow\"]\n",
        "\n",
        "# your code goes here"
      ],
      "execution_count": null,
      "outputs": []
    },
    {
      "cell_type": "markdown",
      "metadata": {
        "id": "O2Di09AGv49P"
      },
      "source": [
        "Now that we have the set of unique colors stored in a variable, in the next code box, attempt to remove the color green from the set using the **remove()** method and output the remaining elements."
      ]
    },
    {
      "cell_type": "code",
      "metadata": {
        "id": "_3G688-dwOwk"
      },
      "source": [
        "# Remove the color green from the set\n"
      ],
      "execution_count": null,
      "outputs": []
    },
    {
      "cell_type": "markdown",
      "metadata": {
        "id": "gFX3StkhwRrA"
      },
      "source": [
        "In the next code box, add a color of your choosing to the set via the **add()** method and output the resulting set."
      ]
    },
    {
      "cell_type": "code",
      "metadata": {
        "id": "vMDkU8IVwPco"
      },
      "source": [
        ""
      ],
      "execution_count": null,
      "outputs": []
    },
    {
      "cell_type": "markdown",
      "metadata": {
        "id": "NCLM24ocba1R"
      },
      "source": [
        "### Dictonaries ([zyBooks 4.5](https://learn.zybooks.com/zybook/ILLINOISCS105Spring2021/chapter/4/section/5))"
      ]
    },
    {
      "cell_type": "markdown",
      "metadata": {
        "id": "Jkc0bA0hbg5y"
      },
      "source": [
        "**Dictionaries** are a type of container that associate a _key_ with a _value_. We often say that this assocation is a \"mapping\" from key to value. In a regular English dictionary, the _key_ would be the word, and the _value_ is the definition of the word. \n",
        "\n",
        "To create a dictionary, use curly braces `{}`. Each `key:value` pair is separated by a comma. Dictionary values can be accessed using the key inside of square brackets, like this: `dict_name[key]`. You can also create new key:value pairs, or update an existing entry with `dict_name[key] = value`. \n",
        "\n",
        "\n",
        "As an example, a dictionary could be used to store the cost of items at a convenience store. Consider the dictionary in the next code box."
      ]
    },
    {
      "cell_type": "code",
      "metadata": {
        "id": "Fux52NF-bgJG"
      },
      "source": [
        "item_cost = {\n",
        "    \"Mt. Dew\" : 0.99,\n",
        "    \"Diet Coke\" : 0.99,\n",
        "    \"Doritos\" : 2.50,\n",
        "    \"Beef Jerky\" : 7.99,\n",
        "    \"Bubble Gum\" : 0.55\n",
        "}"
      ],
      "execution_count": null,
      "outputs": []
    },
    {
      "cell_type": "markdown",
      "metadata": {
        "id": "H-3iHAvDbf4N"
      },
      "source": [
        "This form of data structure is useful given that it allows us to access and modify each individual value. For instance, imagine that the price of Doritos has increased by 50 cents. In the next code box, access that value in the dictonary, update it, and output the resulting dictonary."
      ]
    },
    {
      "cell_type": "code",
      "metadata": {
        "id": "PkoajQ5itidj"
      },
      "source": [
        "# Update and Output\n"
      ],
      "execution_count": null,
      "outputs": []
    },
    {
      "cell_type": "markdown",
      "metadata": {
        "id": "1T_x2mcxtjwH"
      },
      "source": [
        "Dictionaries also allows us to delete entries. Imagine our store is no longer selling Diet Coke. In the next code box, remove that entry from the dictonary and output the resulting dictonary."
      ]
    },
    {
      "cell_type": "code",
      "metadata": {
        "id": "DvrtTScrbivv"
      },
      "source": [
        "# Delete and Output\n"
      ],
      "execution_count": null,
      "outputs": []
    },
    {
      "cell_type": "markdown",
      "metadata": {
        "id": "NeG5vFn0MjBa"
      },
      "source": [
        "You can also add new key-value pairs to a dictionary. In the next code box, add a new item to the store's inventory at any price and output the resulting dictionary."
      ]
    },
    {
      "cell_type": "code",
      "metadata": {
        "id": "fp5c-Q6cMjeM"
      },
      "source": [
        "# Add and Output\n"
      ],
      "execution_count": null,
      "outputs": []
    },
    {
      "cell_type": "markdown",
      "metadata": {
        "id": "IOUEcOjct1E1"
      },
      "source": [
        "The values in dictonaries do not have to just be integers, strings, and floats. They can also be other, more complex, data types. However, the *keys* must always be a string, integer, or floating point.\n",
        "For instance, if we wanted to keep a dictionary of your weekly schedule we could do so by having each **key** be a *string* representing the day of the week and each **value** be a *list* of *strings* for what you have to do on that day. In the next code box, give this a try by filling in the lists with classes and events you might have on each day and run the code box to see the example's output."
      ]
    },
    {
      "cell_type": "code",
      "metadata": {
        "id": "E_qOZ0MjuAby"
      },
      "source": [
        "# Fill in the classes and events you might have in the following dictonary\n",
        "schedule = {\n",
        "    \"Monday\": [],\n",
        "    \"Tuesday\": [],\n",
        "    \"Wednesday\": [],\n",
        "    \"Thursday\": [],\n",
        "    \"Friday\": [],\n",
        "    \"Saturday\": [],\n",
        "    \"Sunday\": []\n",
        "}\n",
        "\n",
        "print(\"On Monday I have \" + str(schedule[\"Monday\"]))\n",
        "print(\"On Tuesday I have \" + str(schedule[\"Tuesday\"]))\n",
        "print(\"On Wednesday I have \" + str(schedule[\"Wednesday\"]))\n",
        "print(\"On Thursday I have \" + str(schedule[\"Thursday\"]))\n",
        "print(\"On Friday I have \" + str(schedule[\"Friday\"]))\n",
        "print(\"On Saturday I have \" + str(schedule[\"Saturday\"]))\n",
        "print(\"On Sunday I have \" + str(schedule[\"Sunday\"]))"
      ],
      "execution_count": null,
      "outputs": []
    },
    {
      "cell_type": "markdown",
      "metadata": {
        "id": "T9QgXMI9bW0O"
      },
      "source": [
        "## Spreadsheet Functions ([zyBooks 1.3](https://learn.zybooks.com/zybook/ILLINOISCS105Spring2021/chapter/1/section/3))"
      ]
    },
    {
      "cell_type": "markdown",
      "metadata": {
        "id": "9Lqm5Onecpb5"
      },
      "source": [
        "Next you will be completing a short excel exercise that will involve the use of the following functions:\n",
        "* SUM()\n",
        "* MAX()\n",
        "* MIN()\n",
        "* COUNT()\n",
        "* AVERAGE()\n",
        "\n",
        "This exercise will, in part, be revisiting a portion of your previous spreadsheet exercise. You will see how to use functions to make some of the tasks, which you previously did manually, significantly easier. "
      ]
    },
    {
      "cell_type": "markdown",
      "metadata": {
        "id": "XWbjaml0cpV7"
      },
      "source": [
        "# Checkoff Questions\n",
        "\n",
        "1. What is the difference between a set and a list?\n",
        "2. How might you delete duplicates in a list without going through the elements one by one? \n",
        "3. When indexing a list, what happens when you use a number that's greater than the total number of elements in the list?\n",
        "4. How would you add a key to a dictionary?"
      ]
    }
  ]
}
