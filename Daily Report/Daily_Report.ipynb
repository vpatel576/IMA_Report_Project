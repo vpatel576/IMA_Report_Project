{
 "cells": [
  {
   "cell_type": "code",
   "execution_count": 2,
   "metadata": {},
   "outputs": [],
   "source": [
    "import smtplib\n",
    "from email.mime.multipart import MIMEMultipart\n",
    "from email.mime.text import MIMEText\n",
    "\n",
    "import pandas as pd\n",
    "import numpy as np\n",
    "from datetime import datetime\n",
    "import pandas_datareader as web\n",
    "from datetime import timedelta\n",
    "from info_data import info_dict"
   ]
  },
  {
   "cell_type": "code",
   "execution_count": 3,
   "metadata": {},
   "outputs": [],
   "source": [
    "today = datetime.today().date()"
   ]
  },
  {
   "cell_type": "code",
   "execution_count": 4,
   "metadata": {},
   "outputs": [],
   "source": [
    "start = today-timedelta(days=5)"
   ]
  },
  {
   "cell_type": "code",
   "execution_count": 5,
   "metadata": {},
   "outputs": [],
   "source": [
    "index = ['^GSPC','^DJI','^IXIC','^RUT']"
   ]
  },
  {
   "cell_type": "code",
   "execution_count": 6,
   "metadata": {},
   "outputs": [],
   "source": [
    "current,pts,per = [],[],[]\n",
    "\n",
    "for i in range(len(index)):\n",
    "    data = web.DataReader(index[i],'yahoo',start,today)['Adj Close']\n",
    "    pts_change = round(data[-1] - data[-2],2)\n",
    "    per_change = str(round(pts_change/data[-2]*100,2))+'%'\n",
    "    \n",
    "    current.append(str(round(data[-1],2)))\n",
    "    pts.append(str(pts_change))\n",
    "    per.append(per_change)"
   ]
  },
  {
   "cell_type": "code",
   "execution_count": 7,
   "metadata": {},
   "outputs": [],
   "source": [
    "def color(number):\n",
    "    if number < 0:\n",
    "        return 'red'\n",
    "    elif number >= 0:\n",
    "        return 'green'"
   ]
  },
  {
   "cell_type": "code",
   "execution_count": 8,
   "metadata": {},
   "outputs": [],
   "source": [
    "def price_alert(info_dictionary):\n",
    "    ticker = list(info_dictionary.keys())\n",
    "    for i in range(len(info_dictionary)):\n",
    "        \n",
    "        data = web.DataReader(ticker[i], 'yahoo', start, today)\n",
    "        price_data = data['Adj Close']\n",
    "        curr_price = round(price_data[-1],2)\n",
    "        of_target = curr_price/(info_dictionary[ticker[i]]['Target'])\n",
    "        \n",
    "        info_dictionary[ticker[i]]['Open']= round(data['Open'][-1],2)\n",
    "        info_dictionary[ticker[i]]['Close']= curr_price\n",
    "        info_dictionary[ticker[i]]['Move Today'] = round(((price_data[-1]-price_data[-2])/price_data[-2])*100,2)\n",
    "        info_dictionary[ticker[i]]['% of Target']= round(of_target*100,2)\n",
    "        info_dictionary[ticker[i]]['% Below Basis'] = round((info_dictionary[ticker[i]]['Close']-info_dictionary[ticker[i]]['Basis'])/(info_dictionary[ticker[i]]['Basis'])*100,2)        \n",
    "    return info_dictionary"
   ]
  },
  {
   "cell_type": "code",
   "execution_count": null,
   "metadata": {},
   "outputs": [],
   "source": [
    "info = price_alert(info_dict)"
   ]
  },
  {
   "cell_type": "code",
   "execution_count": null,
   "metadata": {},
   "outputs": [],
   "source": [
    "df = pd.DataFrame(info).transpose()"
   ]
  },
  {
   "cell_type": "code",
   "execution_count": null,
   "metadata": {},
   "outputs": [],
   "source": [
    "price_alert = df[['Target','Open','Close','Move Today','% of Target']]"
   ]
  },
  {
   "cell_type": "code",
   "execution_count": null,
   "metadata": {},
   "outputs": [],
   "source": [
    "price_alert = price_alert[price_alert['% of Target']>97]"
   ]
  },
  {
   "cell_type": "code",
   "execution_count": null,
   "metadata": {},
   "outputs": [],
   "source": [
    "for i in range(len(price_alert)):\n",
    "    price_alert.replace(price_alert['% of Target'][i],str(price_alert['% of Target'][i])+'%',inplace = True)\n",
    "    price_alert.replace(price_alert['Move Today'][i],str(price_alert['Move Today'][i])+'%',inplace = True)\n",
    "    price_alert.replace(price_alert['Open'][i],'$'+str(price_alert['Open'][i]),inplace = True)\n",
    "    price_alert.replace(price_alert['Target'][i],'$'+str(price_alert['Target'][i]),inplace = True)\n",
    "    price_alert.replace(price_alert['Close'][i],'$'+str(price_alert['Close'][i]),inplace = True)"
   ]
  },
  {
   "cell_type": "code",
   "execution_count": null,
   "metadata": {},
   "outputs": [],
   "source": [
    "price_alert = price_alert.to_html()[:34] + ' style=\"text-align: center'+ price_alert.to_html()[34:]"
   ]
  },
  {
   "cell_type": "code",
   "execution_count": null,
   "metadata": {},
   "outputs": [],
   "source": [
    "poor_alert = df[['Basis','Open','Close','% Below Basis']]"
   ]
  },
  {
   "cell_type": "code",
   "execution_count": null,
   "metadata": {},
   "outputs": [],
   "source": [
    "poor_alert = poor_alert[poor_alert['% Below Basis'] < -10]"
   ]
  },
  {
   "cell_type": "code",
   "execution_count": null,
   "metadata": {},
   "outputs": [],
   "source": [
    "for i in range(len(poor_alert)):\n",
    "    poor_alert.replace(poor_alert['% Below Basis'][i],str(poor_alert['% Below Basis'][i])+'%',inplace = True)\n",
    "    poor_alert.replace(poor_alert['Open'][i],'$'+str(poor_alert['Open'][i]),inplace = True)\n",
    "    poor_alert.replace(poor_alert['Basis'][i],'$'+str(poor_alert['Basis'][i]),inplace = True)\n",
    "    poor_alert.replace(poor_alert['Close'][i],'$'+str(poor_alert['Close'][i]),inplace = True)"
   ]
  },
  {
   "cell_type": "code",
   "execution_count": null,
   "metadata": {},
   "outputs": [],
   "source": [
    "poor_alert = poor_alert.to_html()[:34] + ' style=\"text-align: center'+ poor_alert.to_html()[34:]"
   ]
  },
  {
   "cell_type": "code",
   "execution_count": 19,
   "metadata": {},
   "outputs": [],
   "source": [
    "move_today = df[['Target','Open','Close','Move Today']]"
   ]
  },
  {
   "cell_type": "code",
   "execution_count": 20,
   "metadata": {},
   "outputs": [],
   "source": [
    "move_today = move_today[abs(move_today['Move Today'])>5]"
   ]
  },
  {
   "cell_type": "code",
   "execution_count": 21,
   "metadata": {},
   "outputs": [],
   "source": [
    "for i in range(len(move_today)):\n",
    "    move_today.replace(move_today['Move Today'][i],str(move_today['Move Today'][i])+'%',inplace = True)\n",
    "    move_today.replace(move_today['Open'][i],'$'+str(move_today['Open'][i]),inplace = True)\n",
    "    move_today.replace(move_today['Target'][i],'$'+str(move_today['Target'][i]),inplace = True)\n",
    "    move_today.replace(move_today['Close'][i],'$'+str(move_today['Close'][i]),inplace = True)"
   ]
  },
  {
   "cell_type": "code",
   "execution_count": 22,
   "metadata": {},
   "outputs": [],
   "source": [
    "move_today = move_today.to_html()##[:34] + ' style=\"text-align: center'+ move_today.to_html()[34:]"
   ]
  },
  {
   "cell_type": "code",
   "execution_count": 23,
   "metadata": {},
   "outputs": [],
   "source": [
    "html = \"\"\"<html>\n",
    "<head>\n",
    "\t<title> Daily Report </title>\n",
    "\t<style>\n",
    "\t\t.main_head {\n",
    "\t\t\ttext-align: center;\n",
    "\t\t\tfont-size: 25px;\n",
    "\t\t\tmargin: 15px auto 0px auto;\n",
    "\t\t}\n",
    "\n",
    "\t\t.col {\n",
    "\t\t\tfloat: left;\n",
    "\t\t\twidth: 25%;\n",
    "\t\t\ttext-align: center;\n",
    "\t\t\tfont-size: 15px;\n",
    "\t\t\tfont-weight: bold;\n",
    "\t\t}\n",
    "\n",
    "\t\t.index {\n",
    "\t\t\tmargin-bottom: 0px;\n",
    "\t\t}\n",
    "\n",
    "\t\t.spy,\n",
    "\t\t.djia,\n",
    "\t\t.nasdaq,\n",
    "\t\t.r2000 {\n",
    "\t\t\tmargin: 0px;\n",
    "\t\t}\n",
    "\n",
    "\t\t.spy {\n",
    "\t\t\tcolor:\"\"\" + color(float(pts[0])) + \"\"\";\n",
    "\t\t}\n",
    "\n",
    "\t\t.djia {\n",
    "\t\t\tcolor:\"\"\"+color(float(pts[1])) +\"\"\";\n",
    "\t\t}\n",
    "\n",
    "\t\t.nasdaq {\n",
    "\t\t\tcolor: \"\"\"+color(float(pts[2]))+\"\"\";\n",
    "\t\t}\n",
    "\n",
    "\t\t.r2000 {\n",
    "\t\t\tcolor: \"\"\" + color(float(pts[3])) +\"\"\";\n",
    "\t\t}\n",
    "\n",
    "\t\t.index_info {\n",
    "\t\t\tfont-size: 10px;\n",
    "\t\t}\n",
    "\n",
    "\t\ttable {\n",
    "\t\t\twidth: 80%;\n",
    "\t\t\tmargin-left: auto;\n",
    "\t\t\tmargin-right: auto;\n",
    "\t\t}\n",
    "\n",
    "\t\t.price_alert {\n",
    "\t\t\tmargin-top: 10%;\n",
    "\t\t}\n",
    "\t\t\n",
    "\t\tfooter p{\n",
    "\t\t\ttext-align: center;\n",
    "\t\t}\n",
    "\t</style>\n",
    "</head>\n",
    "\n",
    "<body>\n",
    "\t<p class='main_head'>Daily Report (\"\"\"+str(today.month)+\"\"\"/\"\"\"+str(today.day)+\"\"\"/\"\"\"+str(today.year)+\"\"\")</p>\n",
    "\t<div class=\"row\">\n",
    "\t\t<div class=\"col\">\n",
    "\t\t\t<p class=\"index\"> S&amp;P 500</p>\n",
    "\t\t\t<p class=\"spy\">\"\"\"+current[0]+\"\"\"</p>\n",
    "\t\t\t<p class='spy index_info'>\"\"\"+pts[0]+\"\"\"(\"\"\"+per[0]+\"\"\")</p>\n",
    "\t\t</div>\n",
    "\t\t<div class=\"col\">\n",
    "\t\t\t<p class=\"index\">Dow 30</p>\n",
    "\t\t\t<p class=\"djia\">\"\"\"+current[1]+\"\"\"</p>\n",
    "\t\t\t<p class=\"djia index_info\">\"\"\"+pts[1]+\"\"\"(\"\"\"+per[1]+\"\"\")</p>\n",
    "\t\t</div>\n",
    "\t\t<div class=\"col\">\n",
    "\t\t\t<p class=\"index\">Nasdaq</p>\n",
    "\t\t\t<p class=\"nasdaq\">\"\"\"+current[2]+\"\"\"</p>\n",
    "\t\t\t<p class=\"nasdaq index_info\">\"\"\"+pts[2]+\"\"\"(\"\"\"+per[2]+\"\"\")</p>\n",
    "\t\t</div>\n",
    "\t\t<div class=\"col\">\n",
    "\t\t\t<p class=\"index\">Russell 2000</p>\n",
    "\t\t\t<p class=\"r2000\">\"\"\"+current[3]+\"\"\"</p>\n",
    "\t\t\t<p class=\"r2000 index_info\">\"\"\"+pts[3]+\"\"\"(\"\"\"+per[3]+\"\"\")</p>\n",
    "\t\t</div>\n",
    "\t</div>\n",
    "\t<div class=\"price_alert\">\n",
    "\t\t<p class=\"main_head\">Daily Report Alert<sup>*</sup></p>\n",
    "        \"\"\" +price_alert+ \"\"\"\n",
    "\t</div>\n",
    "\t<div class='poor_perf'>\n",
    "\t\t<p class=\"main_head\">Poor Stock Performer Alert<sup>&dagger;</sup></p>\n",
    "\"\"\" +poor_alert+ \"\"\"\n",
    "\t</div>\n",
    "\t<div class=\"swing\">\n",
    "\t\t<p class=\"main_head\">Daily Biggest Movement<sup>&loz;</sup></p>\n",
    "\"\"\"+move_today+\"\"\"\n",
    "\t</div>\n",
    "\t<footer>\n",
    "\t\t<p>\n",
    "\t\t*: A company is featured in this list if its current price within 3% or over the IMA target Price<br>\n",
    "\t\t&dagger;: A company is featured in this list if its current price is down >=10% buying price<br>\n",
    "\t\t&loz;: A company is featuerd in this list if its price jumped >=5% today\n",
    "\t\t\t\n",
    "\t\t\t\n",
    "\t\t</p>\n",
    "\t\t\n",
    "\t</footer>\n",
    "</body>\n",
    "\n",
    "</html>\n",
    "\"\"\""
   ]
  },
  {
   "cell_type": "code",
   "execution_count": 32,
   "metadata": {},
   "outputs": [],
   "source": [
    "sender = ###\n",
    "receiver =  ###\n",
    "password = ###\n",
    "date_today = today\n",
    "\n",
    "# Create message container - the correct MIME type is multipart/alternative.\n",
    "msg = MIMEMultipart('alternative')\n",
    "msg['Subject'] =  str(date_today.month)+ '/' + str(date_today.day) + '/' +str(date_today.year)+\" || Daily Report\"\n",
    "msg['From'] = sender\n",
    "msg['To'] = \", \".join(receiver)"
   ]
  },
  {
   "cell_type": "code",
   "execution_count": 33,
   "metadata": {},
   "outputs": [
    {
     "data": {
      "text/plain": [
       "(221, b'2.0.0 closing connection k28sm2476774ilg.40 - gsmtp')"
      ]
     },
     "execution_count": 33,
     "metadata": {},
     "output_type": "execute_result"
    }
   ],
   "source": [
    "def email():\n",
    "    p2 = MIMEText(html, 'html')\n",
    "\n",
    "    msg.attach(p2)\n",
    "\n",
    "    server = smtplib.SMTP('smtp.gmail.com', 587)\n",
    "    server.starttls()\n",
    "    server.login(sender,password)\n",
    "\n",
    "    server.sendmail(sender, receiver, msg.as_string())\n",
    "    server.quit()\n",
    "\n",
    "    ##Only sends email on the weekdays"
   ]
  },
  {
   "cell_type": "code",
   "execution_count": 27,
   "metadata": {},
   "outputs": [
    {
     "ename": "NameError",
     "evalue": "name 'email' is not defined",
     "output_type": "error",
     "traceback": [
      "\u001b[1;31m---------------------------------------------------------------------------\u001b[0m",
      "\u001b[1;31mNameError\u001b[0m                                 Traceback (most recent call last)",
      "\u001b[1;32m<ipython-input-27-23bc73a11120>\u001b[0m in \u001b[0;36m<module>\u001b[1;34m\u001b[0m\n\u001b[0;32m      4\u001b[0m \u001b[1;33m\u001b[0m\u001b[0m\n\u001b[0;32m      5\u001b[0m \u001b[1;32mif\u001b[0m \u001b[0mday_difference\u001b[0m \u001b[1;33m==\u001b[0m \u001b[1;36m0\u001b[0m\u001b[1;33m:\u001b[0m\u001b[1;33m\u001b[0m\u001b[1;33m\u001b[0m\u001b[0m\n\u001b[1;32m----> 6\u001b[1;33m     \u001b[0memail\u001b[0m\u001b[1;33m(\u001b[0m\u001b[1;33m)\u001b[0m\u001b[1;33m\u001b[0m\u001b[1;33m\u001b[0m\u001b[0m\n\u001b[0m",
      "\u001b[1;31mNameError\u001b[0m: name 'email' is not defined"
     ]
    }
   ],
   "source": [
    "date_check = web.DataReader('^GSPC','yahoo',start=start, end=today)\n",
    "date_check.reset_index(inplace=True)\n",
    "day_difference = (date_check['Date'].iloc[-1].date()-today).days\n",
    "\n",
    "if day_difference == 0:\n",
    "    email()"
   ]
  }
 ],
 "metadata": {
  "kernelspec": {
   "display_name": "Python 3",
   "language": "python",
   "name": "python3"
  },
  "language_info": {
   "codemirror_mode": {
    "name": "ipython",
    "version": 3
   },
   "file_extension": ".py",
   "mimetype": "text/x-python",
   "name": "python",
   "nbconvert_exporter": "python",
   "pygments_lexer": "ipython3",
   "version": "3.7.3"
  }
 },
 "nbformat": 4,
 "nbformat_minor": 2
}
